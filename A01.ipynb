{
  "nbformat": 4,
  "nbformat_minor": 0,
  "metadata": {
    "colab": {
      "name": "A01.ipynb",
      "provenance": [],
      "collapsed_sections": [],
      "include_colab_link": true
    },
    "kernelspec": {
      "name": "python3",
      "display_name": "Python 3"
    },
    "language_info": {
      "name": "python"
    }
  },
  "cells": [
    {
      "cell_type": "markdown",
      "metadata": {
        "id": "view-in-github",
        "colab_type": "text"
      },
      "source": [
        "<a href=\"https://colab.research.google.com/github/yqz5514/Data-analysis-with-python/blob/master/A01.ipynb\" target=\"_parent\"><img src=\"https://colab.research.google.com/assets/colab-badge.svg\" alt=\"Open In Colab\"/></a>"
      ]
    },
    {
      "cell_type": "markdown",
      "metadata": {
        "id": "hM0dieqETJsT"
      },
      "source": [
        "### Task 1: Chocolate bills\n",
        "\n",
        "Alex eats five chocolates every day. The price of each chocolate is different. His father pays the bill to the chocolate vendor at the end of every week. Develop a program that can generate the bills for the chocolates and send to the father. Also state which loop will be used to solve this problem"
      ]
    },
    {
      "cell_type": "code",
      "metadata": {
        "id": "4Xbfh0dwTRXi",
        "colab": {
          "base_uri": "https://localhost:8080/"
        },
        "outputId": "57b2cd07-5028-4df7-e4f8-8c7c218e2b85"
      },
      "source": [
        "#  store weekly bill of chocolate\n",
        "billWeekly = 0\n",
        "\n",
        "# use for Loop for days from 1 to 7\n",
        "for i in range(1, 8):\n",
        "    \n",
        "    # Print a message for day\n",
        "    print(\"\\nFor Day\", i)\n",
        "    \n",
        "    # use for 2\n",
        "    # for Loop for chocolate per day from 1 to 5\n",
        "    for j in range (1, 6):\n",
        "        \n",
        "        # Take jth chocolate price form user\n",
        "        print(\"Enter the price of\", j, \"chocolate: \", end = '')\n",
        "        price = int(input())\n",
        "        \n",
        "        # Add chocolate price with previous weekly bill\n",
        "        billWeekly = billWeekly + price\n",
        "        \n",
        "# Print total weekly bill of chocolate        \n",
        "print(\"\\n\\nTotal weekly bill of chocolate:\", billWeekly)  \n",
        "\n",
        "\n"
      ],
      "execution_count": null,
      "outputs": [
        {
          "output_type": "stream",
          "name": "stdout",
          "text": [
            "\n",
            "For Day 1\n",
            "Enter the price of 1 chocolate: 2\n",
            "Enter the price of 2 chocolate: 3\n",
            "Enter the price of 3 chocolate: 4\n",
            "Enter the price of 4 chocolate: 5\n",
            "Enter the price of 5 chocolate: 6\n",
            "\n",
            "For Day 2\n",
            "Enter the price of 1 chocolate: 11\n",
            "Enter the price of 2 chocolate: 22\n",
            "Enter the price of 3 chocolate: 33\n",
            "Enter the price of 4 chocolate: 44\n",
            "Enter the price of 5 chocolate: 55\n",
            "\n",
            "For Day 3\n",
            "Enter the price of 1 chocolate: 12\n",
            "Enter the price of 2 chocolate: 13\n",
            "Enter the price of 3 chocolate: 14\n",
            "Enter the price of 4 chocolate: 15\n",
            "Enter the price of 5 chocolate: 16\n",
            "\n",
            "For Day 4\n",
            "Enter the price of 1 chocolate: 21\n",
            "Enter the price of 2 chocolate: 23\n",
            "Enter the price of 3 chocolate: 24\n",
            "Enter the price of 4 chocolate: 25\n",
            "Enter the price of 5 chocolate: 26\n",
            "\n",
            "For Day 5\n",
            "Enter the price of 1 chocolate: 31\n",
            "Enter the price of 2 chocolate: 32\n",
            "Enter the price of 3 chocolate: 34\n",
            "Enter the price of 4 chocolate: 35\n",
            "Enter the price of 5 chocolate: 36\n",
            "\n",
            "For Day 6\n",
            "Enter the price of 1 chocolate: 37\n",
            "Enter the price of 2 chocolate: 38\n",
            "Enter the price of 3 chocolate: 39\n",
            "Enter the price of 4 chocolate: 40\n",
            "Enter the price of 5 chocolate: 41\n",
            "\n",
            "For Day 7\n",
            "Enter the price of 1 chocolate: 42\n",
            "Enter the price of 2 chocolate: 43\n",
            "Enter the price of 3 chocolate: 45\n",
            "Enter the price of 4 chocolate: 56\n",
            "Enter the price of 5 chocolate: 78\n",
            "\n",
            "\n",
            "Total weekly bill of chocolate: 1001\n"
          ]
        }
      ]
    },
    {
      "cell_type": "markdown",
      "metadata": {
        "id": "r90CLpm9TAth"
      },
      "source": [
        "### Task 2: Number game\n",
        "\n",
        "Write a python program which will find all such numbers which are dicisible by 7 but are not a multiple of 5, select range as per your choice.\n"
      ]
    },
    {
      "cell_type": "code",
      "metadata": {
        "colab": {
          "base_uri": "https://localhost:8080/"
        },
        "id": "1UVIiHaqWDwZ",
        "outputId": "818efd7e-9d2a-4d9d-857c-cdb49cedd2fe"
      },
      "source": [
        "# print this first to explain what is the goal of below code\n",
        "print('Numbers that divisible by 7 but are not a multiple of 5 :')\n",
        "\n",
        "# use for loop to determine every number in the range of finding such numbers\n",
        "for i in range(80): \n",
        "  \n",
        "  # use if condition to determine what such number the question required\n",
        "  if i % 7 == 0 and i % 5 != 0:\n",
        "    \n",
        "    # print the result in a line. \n",
        "    print(i, end =' ')\n"
      ],
      "execution_count": null,
      "outputs": [
        {
          "output_type": "stream",
          "name": "stdout",
          "text": [
            "Numbers that divisible by 7 but are not a multiple of 5 :\n",
            "7 14 21 28 42 49 56 63 77 "
          ]
        }
      ]
    },
    {
      "cell_type": "markdown",
      "metadata": {
        "id": "aHvWL5Qjc0qt"
      },
      "source": [
        "### Task 3: Fill in blanks\n",
        "\n"
      ]
    },
    {
      "cell_type": "code",
      "metadata": {
        "id": "MM_bcyG3c5Uq",
        "colab": {
          "base_uri": "https://localhost:8080/"
        },
        "outputId": "f77404fa-6757-4605-9034-5d312e53cc00"
      },
      "source": [
        "tmep = [[i*j for j in range(1,6)]\n",
        "              for i in range(1,6)]\n",
        "\n",
        "# use for loop for every number in one set number of [1,5]\n",
        "for i in range(1,6):\n",
        "\n",
        "  # use for loop for every number in another set of number of [1,5]\n",
        "  for j in range(1,6):\n",
        "\n",
        "    # print the result in a line\n",
        "    print(i*j, end = \" \")  \n"
      ],
      "execution_count": null,
      "outputs": [
        {
          "output_type": "stream",
          "name": "stdout",
          "text": [
            "1 2 3 4 5 2 4 6 8 10 3 6 9 12 15 4 8 12 16 20 5 10 15 20 25 "
          ]
        }
      ]
    },
    {
      "cell_type": "markdown",
      "metadata": {
        "id": "Qqa2r9GDevX9"
      },
      "source": [
        "### Task 4: Coin flip simulator\n",
        "\n",
        "It is well known that in a coin toss the probability of getting a head or a tail is = 0.5. Write a python program which simulates a coin toss for n = 100 and then for n = 500 and count the number of heads and tails and check if they actually have a probability of 0.5."
      ]
    },
    {
      "cell_type": "code",
      "metadata": {
        "colab": {
          "base_uri": "https://localhost:8080/"
        },
        "id": "C5rKdVlTe7k0",
        "outputId": "c1e1d8fc-0012-411b-9207-a6a3bc4c8186"
      },
      "source": [
        "import random\n",
        "\n",
        "# variable stored for head's counts of tosses\n",
        "head_counts = 0\n",
        "\n",
        "# variable stored for tail's counts of tosses\n",
        "tail_counts = 0\n",
        "\n",
        "# variable stored for user input number of flips\n",
        "num_of_flips = int(input('Please decide how many coin tosses you want to do: '))\n",
        "\n",
        "# list store the results of tosses coin for random.choice(). 1 == head up, 2 == tail up.\n",
        "mylist = [1,2]\n",
        "\n",
        "# use for loop for the every time toss coin in user's input number\n",
        "for i in range(num_of_flips):\n",
        "\n",
        "  # variable stored the result of random toss the coin \n",
        "  toss = random.choice(mylist) #random.choice() can only use with list function.\n",
        "\n",
        "  # use condition to seperatly talk about the two result from tosses coin.\n",
        "  # if condition to count head up situiation\n",
        "  if toss == 1:\n",
        "\n",
        "    # toss == 1 means head up, so head_counts += 1.\n",
        "    head_counts = head_counts + 1\n",
        "\n",
        "  # condition to count tail up   \n",
        "  elif toss == 2:\n",
        "\n",
        "    # toss == 2 means tails up, so tail_counts += 1.\n",
        "    tail_counts = tail_counts + 1\n",
        "\n",
        "# print seperatly of total number of  heads and tails been tossed base on user input number of flips.\n",
        "print('heads total: ', head_counts)\n",
        "print('tails total: ', tail_counts)\n",
        "\n",
        "# print the probability of head and tail has been tossed in total of user's input number of flips.\n",
        "# see if the probability is close to 0.5\n",
        "print('Pr(head) = ', head_counts/num_of_flips ,'/nPr(tail) = ', tail_counts/num_of_flips)\n",
        "\n",
        "\n",
        "\n"
      ],
      "execution_count": null,
      "outputs": [
        {
          "output_type": "stream",
          "name": "stdout",
          "text": [
            "Please decide how many coin tosses you want to do: 500\n",
            "heads total:  237\n",
            "tails total:  263\n",
            "Pr(head) =  0.474 /nPr(tail) =  0.526\n"
          ]
        }
      ]
    },
    {
      "cell_type": "markdown",
      "metadata": {
        "id": "QwWYY2xWymv2"
      },
      "source": [
        "### Task 5: Fill the balnks\n",
        "\n",
        "Display a square of numbers(e.g. 5^2 = 25) if you enter 5 it should display the square of 5 and 5 should be taken as number of rows to display the output(square of number)."
      ]
    },
    {
      "cell_type": "code",
      "metadata": {
        "colab": {
          "base_uri": "https://localhost:8080/"
        },
        "id": "waNJLjOcysnF",
        "outputId": "500a1361-14fc-4c52-8a76-4aedd9606ef7"
      },
      "source": [
        "# variablr stored user inpu number from [1,20]\n",
        "num = int(input(\"Enter a number from 1 through 20: \"))\n",
        "\n",
        "# outter for loop to determine the rows\n",
        "for i in range(num):# outter loop\n",
        "  print('')#  go to next line as a row\n",
        "\n",
        "  # inner for loop determine how many numbers you have in a row which is columns\n",
        "  for j in range(num): \n",
        "    \n",
        "    # print rows and columns. and ptinr each row in horizontal. \n",
        "    print(num*i+j+1, end = \" \")\n"
      ],
      "execution_count": null,
      "outputs": [
        {
          "output_type": "stream",
          "name": "stdout",
          "text": [
            "Enter a number from 1 through 20: 5\n",
            "\n",
            "1 2 3 4 5 \n",
            "6 7 8 9 10 \n",
            "11 12 13 14 15 \n",
            "16 17 18 19 20 \n",
            "21 22 23 24 25 "
          ]
        }
      ]
    },
    {
      "cell_type": "markdown",
      "metadata": {
        "id": "xjHTvLyy2Qgw"
      },
      "source": [
        "### Task 6: Password\n",
        "\n",
        "Write a program to read the password from a user. If the user types the correct password. i.e. \"Python\" then display the message, \"Welcome to Python Programming\" . Or else display \"You have Crossed the Limits of Entering Password\".\n",
        "\n",
        "Note: Only three attempts are allowed to enter the right password."
      ]
    },
    {
      "cell_type": "code",
      "metadata": {
        "colab": {
          "base_uri": "https://localhost:8080/"
        },
        "id": "cPh-UXt822QJ",
        "outputId": "22ea18d1-f60a-4975-8518-1800ff26f593"
      },
      "source": [
        "print('Enter correct password to continue')\n",
        "\n",
        "# variable stored total attempts allowed\n",
        "attempt=3\n",
        "\n",
        "# while looping will continue when wrong input for three times and ask again...\n",
        "while attempt <= 3 and attempt >= 1:\n",
        "\n",
        "    # collecting user input \n",
        "    password = input('Please enter password: ')\n",
        "\n",
        "    # if condition will move on for next attempt if user input wrong password. \n",
        "    if password=='Python':\n",
        "        print('Welcome to Python Programming')\n",
        "        \n",
        "        # if match, grand and break\n",
        "        break\n",
        "\n",
        "    # move on to next attempt till user input correct password or used all 3 attempts    \n",
        "    else:\n",
        "        attempt = attempt - 1\n",
        "        print('You have Crossed the Limits of Entering Password. And ',attempt ,' attempts left.')\n",
        "\n",
        "# if condition to tell user that they failed all attempts.\n",
        "if attempt == 0:\n",
        "    print('Sorry, all attempts has been useded. Please contact customer service for more assistant')     \n",
        "\n",
        " \n",
        " \n"
      ],
      "execution_count": null,
      "outputs": [
        {
          "output_type": "stream",
          "name": "stdout",
          "text": [
            "Enter correct password to continue\n",
            "Please enter password: r\n",
            "You have Crossed the Limits of Entering Password. And  2  attempts left.\n",
            "Please enter password: Python\n",
            "Welcome to Python Programming\n"
          ]
        }
      ]
    },
    {
      "cell_type": "markdown",
      "metadata": {
        "id": "T-VE7bvm_5e-"
      },
      "source": [
        "### Part B: A game of chance\n",
        "\n",
        "You roll two six-sided dice, each with faces containing one, two, three, four, five and six spots, respectively. When the dice come to rest, the sum of the spots on the two upward faces is calculated.\n",
        "  \n",
        "\n",
        "*   If the sum is 7 or 11 on the first roll, you win\n",
        "*   If the sum is 2,3 or 12 on the first roll, you lose.\n",
        "*   If the sum is 4,5,6,8,9 or 10 on the first roll, that sum becomes your \"point\"\n",
        "\n",
        "To win, you must continue rolling the dice until you \"make your point\"(i.e., roll that same point value). You lose by rolling a 7 before making your point.\n",
        "\n"
      ]
    },
    {
      "cell_type": "code",
      "metadata": {
        "id": "AHCprKJ3ACYY",
        "colab": {
          "base_uri": "https://localhost:8080/"
        },
        "outputId": "43d4231d-f316-4765-9f6e-d93b3a181a6a"
      },
      "source": [
        "import random\n",
        "\n",
        "# function to stroe the sum of two dice points from random roll. \n",
        "def dice_roll_sum():\n",
        "\n",
        "  # random.randint() can use directly with numbers.\n",
        "  dsum = random.randint(1,6) + random.randint(1,6)\n",
        "  return dsum\n",
        "\n",
        "# function for the game progress\n",
        "def game():\n",
        "\n",
        "    # variable stored the first function\n",
        "    roll = dice_roll_sum()\n",
        "\n",
        "    # if conditon,  will move on to next condition when this condition is not met \n",
        "    if roll == 7 or roll == 11:\n",
        "\n",
        "      # sum == 7 or 11, win\n",
        "       print('Your first roll is ' + str(roll) + '! Congrats! You WIN!')\n",
        "\n",
        "    # condition will move on to next when this condition is not met\n",
        "    elif roll == 2 or roll == 3 or roll == 12:\n",
        "\n",
        "        # sum == 2 or 3 or 12, lose\n",
        "        print('Your first roll is ' +  str(roll) + '! Boom! You LOSE!')\n",
        "    \n",
        "    # all rest of conditions will process in here\n",
        "    else:\n",
        "      print('You first roll is ' + str(roll) + '! Game Continue!')\n",
        "      \n",
        "      # variable stored the points from recent random roll\n",
        "      temp = roll\n",
        "\n",
        "      # while looping will continue when the recent point not euqal to 7.\n",
        "      while temp != 7:\n",
        "\n",
        "        # variable stored very recent point\n",
        "        current_roll = dice_roll_sum()\n",
        "        \n",
        "        print('You rolled ' +  str(current_roll) + ' this round')\n",
        "        \n",
        "        # if condition will stop when current equal to the one point before this current point\n",
        "        if current_roll == temp:\n",
        "          print('You rolled ' +  str(current_roll) + ' twice! Congrats! You WIN!')\n",
        "          break\n",
        "        \n",
        "        # the only situiation left is roll 7 for very current point . then lose.\n",
        "        else:\n",
        "          temp = current_roll\n",
        "\n",
        "      print('Boom! You rolled ' +  str(temp) + ' after first round! You LOSE!')\n",
        "\n",
        "game()"
      ],
      "execution_count": null,
      "outputs": [
        {
          "output_type": "stream",
          "name": "stdout",
          "text": [
            "Your first roll is 11! Congrats! You WIN!\n"
          ]
        }
      ]
    }
  ]
}